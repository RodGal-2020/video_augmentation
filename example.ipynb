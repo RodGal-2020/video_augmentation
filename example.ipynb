{
 "cells": [
  {
   "cell_type": "markdown",
   "metadata": {},
   "source": [
    "# `video_augmentation` example"
   ]
  },
  {
   "cell_type": "code",
   "execution_count": 1,
   "metadata": {},
   "outputs": [
    {
     "name": "stdout",
     "output_type": "stream",
     "text": [
      "Working with the following files in 'data/': ['example.mp4', 'example2.mp4']\n",
      "Press 'q' to stop playing\n",
      "\n",
      "Reading example.mp4 ...\n",
      "NUEVO!! video_width = 640  video_height = 360\n",
      "output_data =  data/augmented/example.mp4\n",
      "Applying before_pepper\n",
      "Applying affine_transformation\n",
      "Applying median_blur\n",
      "once & save_video\n",
      "frame_before.shape =  (360, 640, 3)\n",
      "new_frame.shape =  (360, 640, 3)\n",
      "show size once\n",
      "Reading example2.mp4 ...\n",
      "NUEVO!! video_width = 640  video_height = 360\n",
      "output_data =  data/augmented/example2.mp4\n",
      "Applying before_pepper\n",
      "Applying affine_transformation\n",
      "Applying median_blur\n",
      "once & save_video\n",
      "frame_before.shape =  (360, 640, 3)\n",
      "new_frame.shape =  (360, 640, 3)\n",
      "show size once\n"
     ]
    }
   ],
   "source": [
    "import video_augmentation as va\n",
    "from random import seed\n",
    "seed(1974) # Change the seed to change the result\n",
    "\n",
    "## Folders\n",
    "input_dir = \"data/\"\n",
    "# input_file = \"data/example.mp4\" # TODO\n",
    "input_format = \"mp4\"\n",
    "\n",
    "output_dir = \"data/augmented/\"\n",
    "output_format = \"mp4\" # Also accepts \"avi\"\n",
    "\n",
    "## Booleans\n",
    "save_video = True # Save the video in output_dir?\n",
    "show_size = True # Show the size of the video in the title?\n",
    "show_video = True # Show the video at all?\n",
    "slow = False # Play the video at \"real rate\" or at opencv speed?\n",
    "\n",
    "## Other parameters\n",
    "seconds_before_action = -1 # Seconds before watching the video\n",
    "# my_transformations = [\"aff\"] # Fine\n",
    "# my_transformations = [\"bpepper\"] # Fine\n",
    "# my_transformations = [\"aff\", \"apepper\"] # Fine\n",
    "# my_transformations = [\"bsalt\"] # Fine\n",
    "# my_transformations = [\"blur\"]\n",
    "my_transformations = [\"aff\", \"bpepper\", \"mblur\"]\n",
    "# my_transformations = [\"aff\", \"asalt\"] # Fine\n",
    "# my_transformations = [\"bpepper\", \"bsalt\"] # Fine\n",
    "# my_transformations = [\"aff\", \"bpepper\", \"bsalt\", \"apepper\", \"asalt\"]\n",
    "# my_transformations = [\"aff\", \"bpepper\", \"bsalt\", \"blur\", \"mblur\", \"apepper\", \"asalt\"]\n",
    "\n",
    "### Execution\n",
    "va.augment(input_dir, output_dir, input_format, \n",
    "                output_format, show_video, save_video, \n",
    "                slow, show_size, seconds_before_action, \n",
    "                my_transformations)"
   ]
  }
 ],
 "metadata": {
  "interpreter": {
   "hash": "a04f7607502b1a99b5e44ffa23b3a0502b3a5ac8e6c0a55742ccdc805b58bd25"
  },
  "kernelspec": {
   "display_name": "Python 3.9.7",
   "language": "python",
   "name": "python3"
  },
  "language_info": {
   "codemirror_mode": {
    "name": "ipython",
    "version": 3
   },
   "file_extension": ".py",
   "mimetype": "text/x-python",
   "name": "python",
   "nbconvert_exporter": "python",
   "pygments_lexer": "ipython3",
   "version": "3.9.7"
  },
  "orig_nbformat": 4
 },
 "nbformat": 4,
 "nbformat_minor": 2
}
