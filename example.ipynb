{
 "cells": [
  {
   "cell_type": "markdown",
   "metadata": {},
   "source": [
    "# `video_augmentation` example\n",
    "With `video_augmentation_functions.py` in the same folder, run the following code:"
   ]
  },
  {
   "cell_type": "code",
   "execution_count": 2,
   "metadata": {},
   "outputs": [
    {
     "name": "stdout",
     "output_type": "stream",
     "text": [
      "Working with the following files in 'data/': ['example.mp4', 'example2.mp4']\n",
      "Press 'q' to stop playing\n",
      "\n",
      "\n",
      "Reading example.mp4 ...\n",
      "Applying before_pepper\n",
      "Applying affine_transformation\n",
      "Applying median_blur\n",
      "\n",
      "Reading example2.mp4 ...\n",
      "Applying before_pepper\n",
      "Applying affine_transformation\n",
      "Applying median_blur\n"
     ]
    }
   ],
   "source": [
    "import video_augmentation_functions as va\n",
    "from random import seed\n",
    "seed(1974) # Change the seed to change the result\n",
    "\n",
    "## Folders\n",
    "my_input_dir = \"data/\"\n",
    "# my_input_dir = \"new_data/\"\n",
    "# input_file = \"data/example.mp4\" # TODO: Allow this\n",
    "my_input_format = \"mp4\"\n",
    "\n",
    "my_output_format = \"mp4\" # Also accepts \"avi\"\n",
    "my_output_dir = \"new_data/augmented_with_marks/\"\n",
    "\n",
    "## Booleans\n",
    "my_save_video = True # Save the video in output_dir?\n",
    "my_show_size = True # Show the size of the video in the title?\n",
    "my_show_video = True # Show the video at all?\n",
    "my_slow = False # Play the video at real rate or at opencv speed?\n",
    "my_debug_mode = False # Show additional info, useful for debugging?\n",
    "\n",
    "## Other parameters\n",
    "my_augmented_mark = \"augmented_\" # None\n",
    "my_seconds_before_action = 0 # Seconds before watching the video\n",
    "my_n_mats = 20 # Number of random matrixes\n",
    "my_transformations = [\"aff\", \"bpepper\", \"mblur\"]\n",
    "# my_transformations = [\"aff\", \"apepper\", \"bsalt\", \"blur\", \"mblur\"]\n",
    "# my_transformations = [\"aff\", \"bpepper\", \"bsalt\", \"blur\", \"mblur\", \"apepper\", \"asalt\"] # All possible transformations\n",
    "\n",
    "### Execution\n",
    "va.augment(\n",
    "    input_dir = my_input_dir, \n",
    "    output_dir = my_output_dir, \n",
    "    input_format = my_input_format, \n",
    "    output_format = my_output_format, \n",
    "    show_video = my_show_video, \n",
    "    save_video = my_save_video, \n",
    "    slow = my_slow, \n",
    "    show_size = my_show_size, \n",
    "    seconds_before_action = my_seconds_before_action, \n",
    "    transformations = my_transformations, \n",
    "    n_mats = my_n_mats, \n",
    "    debug_mode = my_debug_mode,\n",
    "    augmented_mark = my_augmented_mark)"
   ]
  }
 ],
 "metadata": {
  "interpreter": {
   "hash": "a04f7607502b1a99b5e44ffa23b3a0502b3a5ac8e6c0a55742ccdc805b58bd25"
  },
  "kernelspec": {
   "display_name": "Python 3.9.7",
   "language": "python",
   "name": "python3"
  },
  "language_info": {
   "codemirror_mode": {
    "name": "ipython",
    "version": 3
   },
   "file_extension": ".py",
   "mimetype": "text/x-python",
   "name": "python",
   "nbconvert_exporter": "python",
   "pygments_lexer": "ipython3",
   "version": "3.9.7"
  },
  "orig_nbformat": 4
 },
 "nbformat": 4,
 "nbformat_minor": 2
}
