{
 "cells": [
  {
   "cell_type": "markdown",
   "metadata": {},
   "source": [
    "# `video_augmentation` example"
   ]
  },
  {
   "cell_type": "code",
   "execution_count": 2,
   "metadata": {},
   "outputs": [
    {
     "name": "stdout",
     "output_type": "stream",
     "text": [
      "Working with the following files in 'data/': ['example.mp4']\n",
      "Press 'q' to stop playing\n",
      "\n",
      "files_name[0] =  example.mp4\n",
      "input_dir + files_name[0] =  data/example.mp4\n",
      "Reading example.mp4 ...\n",
      "Applying affine transformation\n"
     ]
    }
   ],
   "source": [
    "import video_augmentation as va\n",
    "from random import seed\n",
    "seed(1974) # Change the seed to change the result\n",
    "### Example 1\n",
    "seed(1974)\n",
    "\n",
    "## Folders\n",
    "input_dir = \"data/\"\n",
    "# input_file = \"data/example.mp4\" # TODO\n",
    "input_format = \"mp4\"\n",
    "\n",
    "output_dir = \"data/augmented/\"\n",
    "output_format = \"mp4\" # Also accepts \"avi\"\n",
    "\n",
    "## Booleans\n",
    "save_video = False # Save the video in output_dir?\n",
    "show_size = True # Show the size of the video in the title?\n",
    "show_video = True # Show the video at all?\n",
    "slow = True # Play the video at real rate or at opencv speed?\n",
    "\n",
    "## Other parameters\n",
    "seconds_before_action = 0 # Seconds before watching the video\n",
    "# my_transformations = [\"aff\"] # Fine\n",
    "# my_transformations = [\"bpepper\"] # Fine\n",
    "# my_transformations = [\"aff\", \"apepper\"] # Fine\n",
    "# my_transformations = [\"bsalt\"] # Fine\n",
    "# my_transformations = [\"blur\"]\n",
    "my_transformations = [\"aff\", \"bpepper\", \"mblur\"]\n",
    "# my_transformations = [\"aff\", \"asalt\"] # Fine\n",
    "# my_transformations = [\"bpepper\", \"bsalt\"] # Fine\n",
    "# my_transformations = [\"aff\", \"bpepper\", \"bsalt\", \"apepper\", \"asalt\"]\n",
    "# my_transformations = [\"aff\", \"bpepper\", \"bsalt\", \"blur\", \"mblur\", \"apepper\", \"asalt\"]\n",
    "\n",
    "### Execution\n",
    "va.augmentate(input_dir, output_dir, input_format, output_format, show_video, save_video, slow, show_size, seconds_before_action, my_transformations)"
   ]
  }
 ],
 "metadata": {
  "interpreter": {
   "hash": "a04f7607502b1a99b5e44ffa23b3a0502b3a5ac8e6c0a55742ccdc805b58bd25"
  },
  "kernelspec": {
   "display_name": "Python 3.9.7",
   "language": "python",
   "name": "python3"
  },
  "language_info": {
   "codemirror_mode": {
    "name": "ipython",
    "version": 3
   },
   "file_extension": ".py",
   "mimetype": "text/x-python",
   "name": "python",
   "nbconvert_exporter": "python",
   "pygments_lexer": "ipython3",
   "version": "3.9.7"
  },
  "orig_nbformat": 4
 },
 "nbformat": 4,
 "nbformat_minor": 2
}
