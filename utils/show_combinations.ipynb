{
 "cells": [
  {
   "cell_type": "markdown",
   "metadata": {},
   "source": [
    "# Apply different combinations of transformations\n",
    "\n",
    "Code created to test the different combinations of transformations."
   ]
  },
  {
   "cell_type": "code",
   "execution_count": null,
   "metadata": {},
   "outputs": [],
   "source": [
    "import video_augmentation_functions as va\n",
    "va.set_seed(1974) # Change the seed to change the result\n",
    "\n",
    "## Folders\n",
    "my_input_dir = \"data/\"\n",
    "my_input_format = \"mp4\"\n",
    "my_output_dir = \"new_data/\"\n",
    "my_output_format = \"mp4\" # Also accepts \"avi\"\n",
    "\n",
    "## Booleans\n",
    "my_save_video = True # Save the video in output_dir?\n",
    "my_show_video = False # Show the video at all?\n",
    "my_show_size = False # Show the size of the video in the title?\n",
    "my_slow = False # Play the video at real rate or at opencv speed?\n",
    "my_debug_mode = False # Show additional info, useful for debugging?\n",
    "\n",
    "## Other parameters\n",
    "my_augmented_mark = \"augmented_\" # None\n",
    "my_seconds_before_action = 0 # Seconds before watching the video\n",
    "my_noise_prob = 0.1 # Probability of adding noise to the video (only for pepper and salt transformations)\n"
   ]
  },
  {
   "cell_type": "code",
   "execution_count": null,
   "metadata": {},
   "outputs": [],
   "source": [
    "my_transformations = [\"aff\", \"bpepper\", \"bsalt\", \"blur\", \"mblur\", \"apepper\", \"asalt\", \"dsample-0.1\", \"usample-0.2\"] # All possible transformations\n",
    "\n",
    "## 1 transformation\n",
    "# my_multiple_augmentations = [(\"test\", [trans]) for trans in my_transformations]\n",
    "\n",
    "## 2 transformation\n",
    "# my_multiple_augmentations = [(\"test\", [trans1, trans2]) for trans1 in my_transformations for trans2 in my_transformations if trans1 != trans2 and (not (\n",
    "#   (trans1 == \"dsample-0.1\" and trans2 == \"usample-0.2\") or \n",
    "#   (trans2 == \"dsample-0.1\" and trans1 == \"usample-0.2\")\n",
    "#   )\n",
    "# )]\n",
    "\n",
    "## 3 transformations\n",
    "my_multiple_augmentations = [(\"test\", [trans1, trans2, trans3]) for trans1 in my_transformations for trans2 in my_transformations for trans3 in my_transformations if trans1 != trans2 and trans3 != trans1 and trans3 != trans2 and (not (\n",
    "  (trans1 == \"dsample-0.1\" and trans2 == \"usample-0.2\") or \n",
    "  (trans1 == \"dsample-0.1\" and trans3 == \"usample-0.2\") or \n",
    "  (trans2 == \"dsample-0.1\" and trans1 == \"usample-0.2\") or \n",
    "  (trans2 == \"dsample-0.1\" and trans3 == \"usample-0.2\") or \n",
    "  (trans3 == \"dsample-0.1\" and trans1 == \"usample-0.2\") or \n",
    "  (trans3 == \"dsample-0.1\" and trans2 == \"usample-0.2\")\n",
    "  )\n",
    ")]\n",
    "\n",
    "## 4 transformations\n",
    "# my_multiple_augmentations = [(\"test\", [trans1, trans2, trans3, trans4]) for trans1 in my_transformations for trans2 in my_transformations for trans3 in my_transformations for trans4 in my_transformations if trans1 != trans2 and trans3 != trans1 and trans3 != trans2 and trans4 != trans1 and trans4 != trans2 and trans4 != trans3 and (not (\n",
    "#   (trans1 == \"dsample-0.1\" and trans2 == \"usample-0.2\") or \n",
    "#   (trans1 == \"dsample-0.1\" and trans3 == \"usample-0.2\") or \n",
    "#   (trans1 == \"dsample-0.1\" and trans4 == \"usample-0.2\") or \n",
    "  \n",
    "#   (trans2 == \"dsample-0.1\" and trans1 == \"usample-0.2\") or \n",
    "#   (trans2 == \"dsample-0.1\" and trans3 == \"usample-0.2\") or \n",
    "#   (trans2 == \"dsample-0.1\" and trans4 == \"usample-0.2\") or \n",
    "  \n",
    "#   (trans3 == \"dsample-0.1\" and trans1 == \"usample-0.2\") or \n",
    "#   (trans3 == \"dsample-0.1\" and trans2 == \"usample-0.2\") or\n",
    "#   (trans3 == \"dsample-0.1\" and trans4 == \"usample-0.2\") or\n",
    "  \n",
    "#   (trans4 == \"dsample-0.1\" and trans1 == \"usample-0.2\") or \n",
    "#   (trans4 == \"dsample-0.1\" and trans2 == \"usample-0.2\") or \n",
    "#   (trans4 == \"dsample-0.1\" and trans3 == \"usample-0.2\") \n",
    "#   )\n",
    "# )]"
   ]
  }
 ],
 "metadata": {
  "kernelspec": {
   "display_name": "Python 3.7.9 64-bit (microsoft store)",
   "language": "python",
   "name": "python3"
  },
  "language_info": {
   "name": "python",
   "version": "3.7.9"
  },
  "orig_nbformat": 4,
  "vscode": {
   "interpreter": {
    "hash": "8608183916a188497fe94207ad3128b6f60ed727dd98a51ac33bb04d1d1fc927"
   }
  }
 },
 "nbformat": 4,
 "nbformat_minor": 2
}
